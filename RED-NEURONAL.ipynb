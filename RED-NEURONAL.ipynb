{
 "cells": [
  {
   "cell_type": "code",
   "execution_count": 30,
   "id": "9e0edb4f",
   "metadata": {},
   "outputs": [],
   "source": [
    "import numpy as np\n",
    "import random"
   ]
  },
  {
   "cell_type": "code",
   "execution_count": 31,
   "id": "f6993c07",
   "metadata": {},
   "outputs": [],
   "source": [
    "#A continuación, definimos las funciones de activación que utilizaremos en nuestra red neuronal\n",
    "# utilizaremos la función sigmoide como función de activación para las capas ocultas y la función lineal como función de activación para la capa de salida\n",
    "\n",
    "def sigmoid(x):\n",
    "    return 1 / (1 + np.exp(-x))\n",
    "\n",
    "def linear(x):\n",
    "    return x"
   ]
  },
  {
   "cell_type": "code",
   "execution_count": 32,
   "id": "930fd017",
   "metadata": {},
   "outputs": [],
   "source": [
    "class NeuralNetwork:\n",
    "    \n",
    "    def __init__(self, input_size, hidden_size, output_size):\n",
    "        self.input_size = input_size\n",
    "        self.hidden_size = hidden_size\n",
    "        self.output_size = output_size\n",
    "        \n",
    "        # Inicializar los pesos aleatorios\n",
    "        self.weights1 = np.random.rand(self.input_size, self.hidden_size)\n",
    "        self.weights2 = np.random.rand(self.hidden_size, self.output_size)\n",
    "        \n",
    "    def forward(self, X):\n",
    "        # Propagación hacia adelante\n",
    "        self.hidden_layer = sigmoid(np.dot(X, self.weights1))\n",
    "        self.output_layer = linear(np.dot(self.hidden_layer, self.weights2))\n",
    "        \n",
    "        return self.output_layer\n",
    "    \n",
    "    def backward(self, X, y, output):\n",
    "        # Propagación hacia atrás\n",
    "        self.output_error = y - output\n",
    "        self.output_delta = self.output_error\n",
    "        \n",
    "        self.hidden_error = self.output_delta.dot(self.weights2.T)\n",
    "        self.hidden_delta = self.hidden_error * sigmoid(self.hidden_layer) * (1 - sigmoid(self.hidden_layer))\n",
    "        \n",
    "        # Actualizar los pesos\n",
    "        self.weights1 += X.T.dot(self.hidden_delta)\n",
    "        self.weights2 += self.hidden_layer.T.dot(self.output_delta)\n",
    "        \n",
    "    def train(self, X, y, epochs):\n",
    "        for i in range(epochs):\n",
    "            output = self.forward(X)\n",
    "            self.backward(X, y, output)"
   ]
  },
  {
   "cell_type": "code",
   "execution_count": 41,
   "id": "bed8eee5",
   "metadata": {},
   "outputs": [
    {
     "name": "stdout",
     "output_type": "stream",
     "text": [
      "Input:\n",
      "[[0 0]\n",
      " [0 1]\n",
      " [1 0]\n",
      " [1 1]]\n",
      "Predicted Output:\n",
      "[[-0.02388473]\n",
      " [ 0.54251219]\n",
      " [ 0.54148936]\n",
      " [ 0.04131165]]\n",
      "Actual Output:\n",
      "[[0]\n",
      " [1]\n",
      " [1]\n",
      " [0]]\n"
     ]
    }
   ],
   "source": [
    "#creamos una instancia de la red neuronal con una capa de entrada de tamaño 2, una capa oculta de tamaño 3 y una capa de salida de tamaño 1. Luego, generamos algunos datos de entrenamiento y entrenamos la red neuronal durante 1000 épocas.\n",
    "\n",
    "# Crear una instancia de la red neuronal\n",
    "nn = NeuralNetwork(2, 3, 1)\n",
    "\n",
    "# Generar datos de entrenamiento\n",
    "X = np.array([[0, 0], [0, 1], [1, 0], [1, 1]])\n",
    "y = np.array([[0], [1], [1], [0]])\n",
    "\n",
    "# Entrenar la red neuronal\n",
    "nn.train(X, y, epochs=1000)\n",
    "\n",
    "# Imprimir los resultados\n",
    "print(\"Input:\\n\" + str(X))\n",
    "print(\"Predicted Output:\\n\" + str(nn.forward(X)))\n",
    "print(\"Actual Output:\\n\" + str(y))\n"
   ]
  },
  {
   "cell_type": "code",
   "execution_count": 38,
   "id": "2791998d",
   "metadata": {},
   "outputs": [],
   "source": [
    "#la red neuronal debe ser capaz de aprender la función XOR, donde la salida es 1 si solo uno de los valores de entrada es 1 y 0 en cualquier otro caso."
   ]
  },
  {
   "cell_type": "code",
   "execution_count": null,
   "id": "5f60e0be",
   "metadata": {},
   "outputs": [],
   "source": []
  }
 ],
 "metadata": {
  "kernelspec": {
   "display_name": "Python 3 (ipykernel)",
   "language": "python",
   "name": "python3"
  },
  "language_info": {
   "codemirror_mode": {
    "name": "ipython",
    "version": 3
   },
   "file_extension": ".py",
   "mimetype": "text/x-python",
   "name": "python",
   "nbconvert_exporter": "python",
   "pygments_lexer": "ipython3",
   "version": "3.9.13"
  }
 },
 "nbformat": 4,
 "nbformat_minor": 5
}
